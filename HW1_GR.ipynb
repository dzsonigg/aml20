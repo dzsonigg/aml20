{
 "cells": [
  {
   "cell_type": "markdown",
   "metadata": {},
   "source": [
    "# Import"
   ]
  },
  {
   "cell_type": "code",
   "execution_count": 1,
   "metadata": {},
   "outputs": [],
   "source": [
    "import numpy as np\n",
    "import pandas as pd"
   ]
  },
  {
   "cell_type": "markdown",
   "metadata": {},
   "source": [
    "# Data"
   ]
  },
  {
   "cell_type": "code",
   "execution_count": 2,
   "metadata": {},
   "outputs": [
    {
     "data": {
      "text/html": [
       "<div>\n",
       "<style scoped>\n",
       "    .dataframe tbody tr th:only-of-type {\n",
       "        vertical-align: middle;\n",
       "    }\n",
       "\n",
       "    .dataframe tbody tr th {\n",
       "        vertical-align: top;\n",
       "    }\n",
       "\n",
       "    .dataframe thead th {\n",
       "        text-align: right;\n",
       "    }\n",
       "</style>\n",
       "<table border=\"1\" class=\"dataframe\">\n",
       "  <thead>\n",
       "    <tr style=\"text-align: right;\">\n",
       "      <th></th>\n",
       "      <th>M/F/C</th>\n",
       "      <th>SPKR</th>\n",
       "      <th>Phoneme-Number</th>\n",
       "      <th>Phoneme-Ascii</th>\n",
       "      <th>F0</th>\n",
       "      <th>F1</th>\n",
       "      <th>F2</th>\n",
       "      <th>F3</th>\n",
       "    </tr>\n",
       "  </thead>\n",
       "  <tbody>\n",
       "    <tr>\n",
       "      <th>0</th>\n",
       "      <td>1</td>\n",
       "      <td>1</td>\n",
       "      <td>1</td>\n",
       "      <td>IY</td>\n",
       "      <td>160.0</td>\n",
       "      <td>240.0</td>\n",
       "      <td>2280.0</td>\n",
       "      <td>2850.0</td>\n",
       "    </tr>\n",
       "    <tr>\n",
       "      <th>1</th>\n",
       "      <td>1</td>\n",
       "      <td>1</td>\n",
       "      <td>1</td>\n",
       "      <td>IY</td>\n",
       "      <td>186.0</td>\n",
       "      <td>280.0</td>\n",
       "      <td>2400.0</td>\n",
       "      <td>2790.0</td>\n",
       "    </tr>\n",
       "    <tr>\n",
       "      <th>2</th>\n",
       "      <td>1</td>\n",
       "      <td>1</td>\n",
       "      <td>2</td>\n",
       "      <td>IH</td>\n",
       "      <td>203.0</td>\n",
       "      <td>390.0</td>\n",
       "      <td>2030.0</td>\n",
       "      <td>2640.0</td>\n",
       "    </tr>\n",
       "    <tr>\n",
       "      <th>3</th>\n",
       "      <td>1</td>\n",
       "      <td>1</td>\n",
       "      <td>2</td>\n",
       "      <td>IH</td>\n",
       "      <td>192.0</td>\n",
       "      <td>310.0</td>\n",
       "      <td>1980.0</td>\n",
       "      <td>2550.0</td>\n",
       "    </tr>\n",
       "    <tr>\n",
       "      <th>4</th>\n",
       "      <td>1</td>\n",
       "      <td>1</td>\n",
       "      <td>3</td>\n",
       "      <td>EH</td>\n",
       "      <td>161.0</td>\n",
       "      <td>490.0</td>\n",
       "      <td>1870.0</td>\n",
       "      <td>2420.0</td>\n",
       "    </tr>\n",
       "    <tr>\n",
       "      <th>...</th>\n",
       "      <td>...</td>\n",
       "      <td>...</td>\n",
       "      <td>...</td>\n",
       "      <td>...</td>\n",
       "      <td>...</td>\n",
       "      <td>...</td>\n",
       "      <td>...</td>\n",
       "      <td>...</td>\n",
       "    </tr>\n",
       "    <tr>\n",
       "      <th>1515</th>\n",
       "      <td>3</td>\n",
       "      <td>76</td>\n",
       "      <td>8</td>\n",
       "      <td>UH</td>\n",
       "      <td>322.0</td>\n",
       "      <td>610.0</td>\n",
       "      <td>1550.0</td>\n",
       "      <td>3400.0</td>\n",
       "    </tr>\n",
       "    <tr>\n",
       "      <th>1516</th>\n",
       "      <td>3</td>\n",
       "      <td>76</td>\n",
       "      <td>9</td>\n",
       "      <td>UW</td>\n",
       "      <td>345.0</td>\n",
       "      <td>520.0</td>\n",
       "      <td>1250.0</td>\n",
       "      <td>3460.0</td>\n",
       "    </tr>\n",
       "    <tr>\n",
       "      <th>1517</th>\n",
       "      <td>3</td>\n",
       "      <td>76</td>\n",
       "      <td>9</td>\n",
       "      <td>UW</td>\n",
       "      <td>334.0</td>\n",
       "      <td>500.0</td>\n",
       "      <td>1140.0</td>\n",
       "      <td>3380.0</td>\n",
       "    </tr>\n",
       "    <tr>\n",
       "      <th>1518</th>\n",
       "      <td>3</td>\n",
       "      <td>76</td>\n",
       "      <td>10</td>\n",
       "      <td>ER</td>\n",
       "      <td>308.0</td>\n",
       "      <td>740.0</td>\n",
       "      <td>1850.0</td>\n",
       "      <td>2160.0</td>\n",
       "    </tr>\n",
       "    <tr>\n",
       "      <th>1519</th>\n",
       "      <td>3</td>\n",
       "      <td>76</td>\n",
       "      <td>10</td>\n",
       "      <td>ER</td>\n",
       "      <td>328.0</td>\n",
       "      <td>660.0</td>\n",
       "      <td>1830.0</td>\n",
       "      <td>2200.0</td>\n",
       "    </tr>\n",
       "  </tbody>\n",
       "</table>\n",
       "<p>1520 rows × 8 columns</p>\n",
       "</div>"
      ],
      "text/plain": [
       "      M/F/C  SPKR  Phoneme-Number Phoneme-Ascii     F0     F1      F2      F3\n",
       "0         1     1               1            IY  160.0  240.0  2280.0  2850.0\n",
       "1         1     1               1            IY  186.0  280.0  2400.0  2790.0\n",
       "2         1     1               2            IH  203.0  390.0  2030.0  2640.0\n",
       "3         1     1               2            IH  192.0  310.0  1980.0  2550.0\n",
       "4         1     1               3            EH  161.0  490.0  1870.0  2420.0\n",
       "...     ...   ...             ...           ...    ...    ...     ...     ...\n",
       "1515      3    76               8            UH  322.0  610.0  1550.0  3400.0\n",
       "1516      3    76               9            UW  345.0  520.0  1250.0  3460.0\n",
       "1517      3    76               9            UW  334.0  500.0  1140.0  3380.0\n",
       "1518      3    76              10            ER  308.0  740.0  1850.0  2160.0\n",
       "1519      3    76              10            ER  328.0  660.0  1830.0  2200.0\n",
       "\n",
       "[1520 rows x 8 columns]"
      ]
     },
     "execution_count": 2,
     "metadata": {},
     "output_type": "execute_result"
    }
   ],
   "source": [
    "data = pd.read_table(\"verified_pb.txt\", header = None)\n",
    "data.columns = ['M/F/C', 'SPKR','Phoneme-Number','Phoneme-Ascii','F0','F1','F2','F3']\n",
    "data"
   ]
  },
  {
   "cell_type": "markdown",
   "metadata": {},
   "source": [
    "# Data preparing"
   ]
  },
  {
   "cell_type": "markdown",
   "metadata": {},
   "source": [
    "### Starred"
   ]
  },
  {
   "cell_type": "code",
   "execution_count": 3,
   "metadata": {},
   "outputs": [
    {
     "data": {
      "text/html": [
       "<div>\n",
       "<style scoped>\n",
       "    .dataframe tbody tr th:only-of-type {\n",
       "        vertical-align: middle;\n",
       "    }\n",
       "\n",
       "    .dataframe tbody tr th {\n",
       "        vertical-align: top;\n",
       "    }\n",
       "\n",
       "    .dataframe thead th {\n",
       "        text-align: right;\n",
       "    }\n",
       "</style>\n",
       "<table border=\"1\" class=\"dataframe\">\n",
       "  <thead>\n",
       "    <tr style=\"text-align: right;\">\n",
       "      <th></th>\n",
       "      <th>M/F/C</th>\n",
       "      <th>SPKR</th>\n",
       "      <th>Phoneme-Number</th>\n",
       "      <th>Phoneme-Ascii</th>\n",
       "      <th>F0</th>\n",
       "      <th>F1</th>\n",
       "      <th>F2</th>\n",
       "      <th>F3</th>\n",
       "    </tr>\n",
       "  </thead>\n",
       "  <tbody>\n",
       "    <tr>\n",
       "      <th>0</th>\n",
       "      <td>1</td>\n",
       "      <td>1</td>\n",
       "      <td>1</td>\n",
       "      <td>IY</td>\n",
       "      <td>160.0</td>\n",
       "      <td>240.0</td>\n",
       "      <td>2280.0</td>\n",
       "      <td>2850.0</td>\n",
       "    </tr>\n",
       "    <tr>\n",
       "      <th>1</th>\n",
       "      <td>1</td>\n",
       "      <td>1</td>\n",
       "      <td>1</td>\n",
       "      <td>IY</td>\n",
       "      <td>186.0</td>\n",
       "      <td>280.0</td>\n",
       "      <td>2400.0</td>\n",
       "      <td>2790.0</td>\n",
       "    </tr>\n",
       "    <tr>\n",
       "      <th>2</th>\n",
       "      <td>1</td>\n",
       "      <td>1</td>\n",
       "      <td>2</td>\n",
       "      <td>IH</td>\n",
       "      <td>203.0</td>\n",
       "      <td>390.0</td>\n",
       "      <td>2030.0</td>\n",
       "      <td>2640.0</td>\n",
       "    </tr>\n",
       "    <tr>\n",
       "      <th>3</th>\n",
       "      <td>1</td>\n",
       "      <td>1</td>\n",
       "      <td>2</td>\n",
       "      <td>IH</td>\n",
       "      <td>192.0</td>\n",
       "      <td>310.0</td>\n",
       "      <td>1980.0</td>\n",
       "      <td>2550.0</td>\n",
       "    </tr>\n",
       "    <tr>\n",
       "      <th>4</th>\n",
       "      <td>1</td>\n",
       "      <td>1</td>\n",
       "      <td>3</td>\n",
       "      <td>EH</td>\n",
       "      <td>161.0</td>\n",
       "      <td>490.0</td>\n",
       "      <td>1870.0</td>\n",
       "      <td>2420.0</td>\n",
       "    </tr>\n",
       "    <tr>\n",
       "      <th>...</th>\n",
       "      <td>...</td>\n",
       "      <td>...</td>\n",
       "      <td>...</td>\n",
       "      <td>...</td>\n",
       "      <td>...</td>\n",
       "      <td>...</td>\n",
       "      <td>...</td>\n",
       "      <td>...</td>\n",
       "    </tr>\n",
       "    <tr>\n",
       "      <th>1255</th>\n",
       "      <td>3</td>\n",
       "      <td>63</td>\n",
       "      <td>8</td>\n",
       "      <td>UH</td>\n",
       "      <td>294.0</td>\n",
       "      <td>570.0</td>\n",
       "      <td>1450.0</td>\n",
       "      <td>3500.0</td>\n",
       "    </tr>\n",
       "    <tr>\n",
       "      <th>1256</th>\n",
       "      <td>3</td>\n",
       "      <td>63</td>\n",
       "      <td>9</td>\n",
       "      <td>UW</td>\n",
       "      <td>333.0</td>\n",
       "      <td>350.0</td>\n",
       "      <td>1280.0</td>\n",
       "      <td>3650.0</td>\n",
       "    </tr>\n",
       "    <tr>\n",
       "      <th>1257</th>\n",
       "      <td>3</td>\n",
       "      <td>63</td>\n",
       "      <td>9</td>\n",
       "      <td>UW</td>\n",
       "      <td>290.0</td>\n",
       "      <td>340.0</td>\n",
       "      <td>1160.0</td>\n",
       "      <td>2950.0</td>\n",
       "    </tr>\n",
       "    <tr>\n",
       "      <th>1258</th>\n",
       "      <td>3</td>\n",
       "      <td>63</td>\n",
       "      <td>10</td>\n",
       "      <td>*ER</td>\n",
       "      <td>275.0</td>\n",
       "      <td>560.0</td>\n",
       "      <td>1740.0</td>\n",
       "      <td>2460.0</td>\n",
       "    </tr>\n",
       "    <tr>\n",
       "      <th>1259</th>\n",
       "      <td>3</td>\n",
       "      <td>63</td>\n",
       "      <td>10</td>\n",
       "      <td>ER</td>\n",
       "      <td>302.0</td>\n",
       "      <td>600.0</td>\n",
       "      <td>1800.0</td>\n",
       "      <td>2200.0</td>\n",
       "    </tr>\n",
       "  </tbody>\n",
       "</table>\n",
       "<p>200 rows × 8 columns</p>\n",
       "</div>"
      ],
      "text/plain": [
       "      M/F/C  SPKR  Phoneme-Number Phoneme-Ascii     F0     F1      F2      F3\n",
       "0         1     1               1            IY  160.0  240.0  2280.0  2850.0\n",
       "1         1     1               1            IY  186.0  280.0  2400.0  2790.0\n",
       "2         1     1               2            IH  203.0  390.0  2030.0  2640.0\n",
       "3         1     1               2            IH  192.0  310.0  1980.0  2550.0\n",
       "4         1     1               3            EH  161.0  490.0  1870.0  2420.0\n",
       "...     ...   ...             ...           ...    ...    ...     ...     ...\n",
       "1255      3    63               8            UH  294.0  570.0  1450.0  3500.0\n",
       "1256      3    63               9            UW  333.0  350.0  1280.0  3650.0\n",
       "1257      3    63               9            UW  290.0  340.0  1160.0  2950.0\n",
       "1258      3    63              10           *ER  275.0  560.0  1740.0  2460.0\n",
       "1259      3    63              10            ER  302.0  600.0  1800.0  2200.0\n",
       "\n",
       "[200 rows x 8 columns]"
      ]
     },
     "execution_count": 3,
     "metadata": {},
     "output_type": "execute_result"
    }
   ],
   "source": [
    "male = data[:80]\n",
    "female = data[660:740]\n",
    "children = data[1220:1260]\n",
    "concat = [male, female, children]\n",
    "test_set_star= pd.concat(concat)\n",
    "#pd.set_option('display.max_columns', None)\n",
    "test_set_star"
   ]
  },
  {
   "cell_type": "code",
   "execution_count": 4,
   "metadata": {},
   "outputs": [
    {
     "data": {
      "text/html": [
       "<div>\n",
       "<style scoped>\n",
       "    .dataframe tbody tr th:only-of-type {\n",
       "        vertical-align: middle;\n",
       "    }\n",
       "\n",
       "    .dataframe tbody tr th {\n",
       "        vertical-align: top;\n",
       "    }\n",
       "\n",
       "    .dataframe thead th {\n",
       "        text-align: right;\n",
       "    }\n",
       "</style>\n",
       "<table border=\"1\" class=\"dataframe\">\n",
       "  <thead>\n",
       "    <tr style=\"text-align: right;\">\n",
       "      <th></th>\n",
       "      <th>M/F/C</th>\n",
       "      <th>SPKR</th>\n",
       "      <th>Phoneme-Number</th>\n",
       "      <th>Phoneme-Ascii</th>\n",
       "      <th>F0</th>\n",
       "      <th>F1</th>\n",
       "      <th>F2</th>\n",
       "      <th>F3</th>\n",
       "    </tr>\n",
       "  </thead>\n",
       "  <tbody>\n",
       "    <tr>\n",
       "      <th>80</th>\n",
       "      <td>1</td>\n",
       "      <td>5</td>\n",
       "      <td>1</td>\n",
       "      <td>IY</td>\n",
       "      <td>140.0</td>\n",
       "      <td>310.0</td>\n",
       "      <td>2310.0</td>\n",
       "      <td>2820.0</td>\n",
       "    </tr>\n",
       "    <tr>\n",
       "      <th>81</th>\n",
       "      <td>1</td>\n",
       "      <td>5</td>\n",
       "      <td>1</td>\n",
       "      <td>IY</td>\n",
       "      <td>131.0</td>\n",
       "      <td>260.0</td>\n",
       "      <td>2250.0</td>\n",
       "      <td>2850.0</td>\n",
       "    </tr>\n",
       "    <tr>\n",
       "      <th>82</th>\n",
       "      <td>1</td>\n",
       "      <td>5</td>\n",
       "      <td>2</td>\n",
       "      <td>IH</td>\n",
       "      <td>137.0</td>\n",
       "      <td>440.0</td>\n",
       "      <td>2060.0</td>\n",
       "      <td>2640.0</td>\n",
       "    </tr>\n",
       "    <tr>\n",
       "      <th>83</th>\n",
       "      <td>1</td>\n",
       "      <td>5</td>\n",
       "      <td>2</td>\n",
       "      <td>IH</td>\n",
       "      <td>134.0</td>\n",
       "      <td>430.0</td>\n",
       "      <td>1880.0</td>\n",
       "      <td>2450.0</td>\n",
       "    </tr>\n",
       "    <tr>\n",
       "      <th>84</th>\n",
       "      <td>1</td>\n",
       "      <td>5</td>\n",
       "      <td>3</td>\n",
       "      <td>EH</td>\n",
       "      <td>140.0</td>\n",
       "      <td>580.0</td>\n",
       "      <td>1910.0</td>\n",
       "      <td>2500.0</td>\n",
       "    </tr>\n",
       "    <tr>\n",
       "      <th>...</th>\n",
       "      <td>...</td>\n",
       "      <td>...</td>\n",
       "      <td>...</td>\n",
       "      <td>...</td>\n",
       "      <td>...</td>\n",
       "      <td>...</td>\n",
       "      <td>...</td>\n",
       "      <td>...</td>\n",
       "    </tr>\n",
       "    <tr>\n",
       "      <th>1515</th>\n",
       "      <td>3</td>\n",
       "      <td>76</td>\n",
       "      <td>8</td>\n",
       "      <td>UH</td>\n",
       "      <td>322.0</td>\n",
       "      <td>610.0</td>\n",
       "      <td>1550.0</td>\n",
       "      <td>3400.0</td>\n",
       "    </tr>\n",
       "    <tr>\n",
       "      <th>1516</th>\n",
       "      <td>3</td>\n",
       "      <td>76</td>\n",
       "      <td>9</td>\n",
       "      <td>UW</td>\n",
       "      <td>345.0</td>\n",
       "      <td>520.0</td>\n",
       "      <td>1250.0</td>\n",
       "      <td>3460.0</td>\n",
       "    </tr>\n",
       "    <tr>\n",
       "      <th>1517</th>\n",
       "      <td>3</td>\n",
       "      <td>76</td>\n",
       "      <td>9</td>\n",
       "      <td>UW</td>\n",
       "      <td>334.0</td>\n",
       "      <td>500.0</td>\n",
       "      <td>1140.0</td>\n",
       "      <td>3380.0</td>\n",
       "    </tr>\n",
       "    <tr>\n",
       "      <th>1518</th>\n",
       "      <td>3</td>\n",
       "      <td>76</td>\n",
       "      <td>10</td>\n",
       "      <td>ER</td>\n",
       "      <td>308.0</td>\n",
       "      <td>740.0</td>\n",
       "      <td>1850.0</td>\n",
       "      <td>2160.0</td>\n",
       "    </tr>\n",
       "    <tr>\n",
       "      <th>1519</th>\n",
       "      <td>3</td>\n",
       "      <td>76</td>\n",
       "      <td>10</td>\n",
       "      <td>ER</td>\n",
       "      <td>328.0</td>\n",
       "      <td>660.0</td>\n",
       "      <td>1830.0</td>\n",
       "      <td>2200.0</td>\n",
       "    </tr>\n",
       "  </tbody>\n",
       "</table>\n",
       "<p>1320 rows × 8 columns</p>\n",
       "</div>"
      ],
      "text/plain": [
       "      M/F/C  SPKR  Phoneme-Number Phoneme-Ascii     F0     F1      F2      F3\n",
       "80        1     5               1            IY  140.0  310.0  2310.0  2820.0\n",
       "81        1     5               1            IY  131.0  260.0  2250.0  2850.0\n",
       "82        1     5               2            IH  137.0  440.0  2060.0  2640.0\n",
       "83        1     5               2            IH  134.0  430.0  1880.0  2450.0\n",
       "84        1     5               3            EH  140.0  580.0  1910.0  2500.0\n",
       "...     ...   ...             ...           ...    ...    ...     ...     ...\n",
       "1515      3    76               8            UH  322.0  610.0  1550.0  3400.0\n",
       "1516      3    76               9            UW  345.0  520.0  1250.0  3460.0\n",
       "1517      3    76               9            UW  334.0  500.0  1140.0  3380.0\n",
       "1518      3    76              10            ER  308.0  740.0  1850.0  2160.0\n",
       "1519      3    76              10            ER  328.0  660.0  1830.0  2200.0\n",
       "\n",
       "[1320 rows x 8 columns]"
      ]
     },
     "execution_count": 4,
     "metadata": {},
     "output_type": "execute_result"
    }
   ],
   "source": [
    "other_male = data[80:660]\n",
    "other_female = data[740:1220]\n",
    "other_children = data[1260:]\n",
    "concat2 = [other_male, other_female, other_children]\n",
    "train_set_star = pd.concat(concat2)\n",
    "train_set_star"
   ]
  },
  {
   "cell_type": "markdown",
   "metadata": {},
   "source": [
    "### Unstarred"
   ]
  },
  {
   "cell_type": "code",
   "execution_count": 5,
   "metadata": {},
   "outputs": [
    {
     "data": {
      "text/html": [
       "<div>\n",
       "<style scoped>\n",
       "    .dataframe tbody tr th:only-of-type {\n",
       "        vertical-align: middle;\n",
       "    }\n",
       "\n",
       "    .dataframe tbody tr th {\n",
       "        vertical-align: top;\n",
       "    }\n",
       "\n",
       "    .dataframe thead th {\n",
       "        text-align: right;\n",
       "    }\n",
       "</style>\n",
       "<table border=\"1\" class=\"dataframe\">\n",
       "  <thead>\n",
       "    <tr style=\"text-align: right;\">\n",
       "      <th></th>\n",
       "      <th>M/F/C</th>\n",
       "      <th>SPKR</th>\n",
       "      <th>Phoneme-Number</th>\n",
       "      <th>Phoneme-Ascii</th>\n",
       "      <th>F0</th>\n",
       "      <th>F1</th>\n",
       "      <th>F2</th>\n",
       "      <th>F3</th>\n",
       "    </tr>\n",
       "  </thead>\n",
       "  <tbody>\n",
       "    <tr>\n",
       "      <th>0</th>\n",
       "      <td>1</td>\n",
       "      <td>1</td>\n",
       "      <td>1</td>\n",
       "      <td>IY</td>\n",
       "      <td>160.0</td>\n",
       "      <td>240.0</td>\n",
       "      <td>2280.0</td>\n",
       "      <td>2850.0</td>\n",
       "    </tr>\n",
       "    <tr>\n",
       "      <th>1</th>\n",
       "      <td>1</td>\n",
       "      <td>1</td>\n",
       "      <td>1</td>\n",
       "      <td>IY</td>\n",
       "      <td>186.0</td>\n",
       "      <td>280.0</td>\n",
       "      <td>2400.0</td>\n",
       "      <td>2790.0</td>\n",
       "    </tr>\n",
       "    <tr>\n",
       "      <th>2</th>\n",
       "      <td>1</td>\n",
       "      <td>1</td>\n",
       "      <td>2</td>\n",
       "      <td>IH</td>\n",
       "      <td>203.0</td>\n",
       "      <td>390.0</td>\n",
       "      <td>2030.0</td>\n",
       "      <td>2640.0</td>\n",
       "    </tr>\n",
       "    <tr>\n",
       "      <th>3</th>\n",
       "      <td>1</td>\n",
       "      <td>1</td>\n",
       "      <td>2</td>\n",
       "      <td>IH</td>\n",
       "      <td>192.0</td>\n",
       "      <td>310.0</td>\n",
       "      <td>1980.0</td>\n",
       "      <td>2550.0</td>\n",
       "    </tr>\n",
       "    <tr>\n",
       "      <th>4</th>\n",
       "      <td>1</td>\n",
       "      <td>1</td>\n",
       "      <td>3</td>\n",
       "      <td>EH</td>\n",
       "      <td>161.0</td>\n",
       "      <td>490.0</td>\n",
       "      <td>1870.0</td>\n",
       "      <td>2420.0</td>\n",
       "    </tr>\n",
       "    <tr>\n",
       "      <th>...</th>\n",
       "      <td>...</td>\n",
       "      <td>...</td>\n",
       "      <td>...</td>\n",
       "      <td>...</td>\n",
       "      <td>...</td>\n",
       "      <td>...</td>\n",
       "      <td>...</td>\n",
       "      <td>...</td>\n",
       "    </tr>\n",
       "    <tr>\n",
       "      <th>1254</th>\n",
       "      <td>3</td>\n",
       "      <td>63</td>\n",
       "      <td>8</td>\n",
       "      <td>UH</td>\n",
       "      <td>285.0</td>\n",
       "      <td>560.0</td>\n",
       "      <td>1440.0</td>\n",
       "      <td>3500.0</td>\n",
       "    </tr>\n",
       "    <tr>\n",
       "      <th>1255</th>\n",
       "      <td>3</td>\n",
       "      <td>63</td>\n",
       "      <td>8</td>\n",
       "      <td>UH</td>\n",
       "      <td>294.0</td>\n",
       "      <td>570.0</td>\n",
       "      <td>1450.0</td>\n",
       "      <td>3500.0</td>\n",
       "    </tr>\n",
       "    <tr>\n",
       "      <th>1256</th>\n",
       "      <td>3</td>\n",
       "      <td>63</td>\n",
       "      <td>9</td>\n",
       "      <td>UW</td>\n",
       "      <td>333.0</td>\n",
       "      <td>350.0</td>\n",
       "      <td>1280.0</td>\n",
       "      <td>3650.0</td>\n",
       "    </tr>\n",
       "    <tr>\n",
       "      <th>1257</th>\n",
       "      <td>3</td>\n",
       "      <td>63</td>\n",
       "      <td>9</td>\n",
       "      <td>UW</td>\n",
       "      <td>290.0</td>\n",
       "      <td>340.0</td>\n",
       "      <td>1160.0</td>\n",
       "      <td>2950.0</td>\n",
       "    </tr>\n",
       "    <tr>\n",
       "      <th>1259</th>\n",
       "      <td>3</td>\n",
       "      <td>63</td>\n",
       "      <td>10</td>\n",
       "      <td>ER</td>\n",
       "      <td>302.0</td>\n",
       "      <td>600.0</td>\n",
       "      <td>1800.0</td>\n",
       "      <td>2200.0</td>\n",
       "    </tr>\n",
       "  </tbody>\n",
       "</table>\n",
       "<p>158 rows × 8 columns</p>\n",
       "</div>"
      ],
      "text/plain": [
       "      M/F/C  SPKR  Phoneme-Number Phoneme-Ascii     F0     F1      F2      F3\n",
       "0         1     1               1            IY  160.0  240.0  2280.0  2850.0\n",
       "1         1     1               1            IY  186.0  280.0  2400.0  2790.0\n",
       "2         1     1               2            IH  203.0  390.0  2030.0  2640.0\n",
       "3         1     1               2            IH  192.0  310.0  1980.0  2550.0\n",
       "4         1     1               3            EH  161.0  490.0  1870.0  2420.0\n",
       "...     ...   ...             ...           ...    ...    ...     ...     ...\n",
       "1254      3    63               8            UH  285.0  560.0  1440.0  3500.0\n",
       "1255      3    63               8            UH  294.0  570.0  1450.0  3500.0\n",
       "1256      3    63               9            UW  333.0  350.0  1280.0  3650.0\n",
       "1257      3    63               9            UW  290.0  340.0  1160.0  2950.0\n",
       "1259      3    63              10            ER  302.0  600.0  1800.0  2200.0\n",
       "\n",
       "[158 rows x 8 columns]"
      ]
     },
     "execution_count": 5,
     "metadata": {},
     "output_type": "execute_result"
    }
   ],
   "source": [
    "test_set_nostar = test_set_star[~test_set_star[\"Phoneme-Ascii\"].str.startswith(\"*\")]\n",
    "test_set_nostar"
   ]
  },
  {
   "cell_type": "code",
   "execution_count": 6,
   "metadata": {},
   "outputs": [
    {
     "data": {
      "text/html": [
       "<div>\n",
       "<style scoped>\n",
       "    .dataframe tbody tr th:only-of-type {\n",
       "        vertical-align: middle;\n",
       "    }\n",
       "\n",
       "    .dataframe tbody tr th {\n",
       "        vertical-align: top;\n",
       "    }\n",
       "\n",
       "    .dataframe thead th {\n",
       "        text-align: right;\n",
       "    }\n",
       "</style>\n",
       "<table border=\"1\" class=\"dataframe\">\n",
       "  <thead>\n",
       "    <tr style=\"text-align: right;\">\n",
       "      <th></th>\n",
       "      <th>M/F/C</th>\n",
       "      <th>SPKR</th>\n",
       "      <th>Phoneme-Number</th>\n",
       "      <th>Phoneme-Ascii</th>\n",
       "      <th>F0</th>\n",
       "      <th>F1</th>\n",
       "      <th>F2</th>\n",
       "      <th>F3</th>\n",
       "    </tr>\n",
       "  </thead>\n",
       "  <tbody>\n",
       "    <tr>\n",
       "      <th>80</th>\n",
       "      <td>1</td>\n",
       "      <td>5</td>\n",
       "      <td>1</td>\n",
       "      <td>IY</td>\n",
       "      <td>140.0</td>\n",
       "      <td>310.0</td>\n",
       "      <td>2310.0</td>\n",
       "      <td>2820.0</td>\n",
       "    </tr>\n",
       "    <tr>\n",
       "      <th>81</th>\n",
       "      <td>1</td>\n",
       "      <td>5</td>\n",
       "      <td>1</td>\n",
       "      <td>IY</td>\n",
       "      <td>131.0</td>\n",
       "      <td>260.0</td>\n",
       "      <td>2250.0</td>\n",
       "      <td>2850.0</td>\n",
       "    </tr>\n",
       "    <tr>\n",
       "      <th>82</th>\n",
       "      <td>1</td>\n",
       "      <td>5</td>\n",
       "      <td>2</td>\n",
       "      <td>IH</td>\n",
       "      <td>137.0</td>\n",
       "      <td>440.0</td>\n",
       "      <td>2060.0</td>\n",
       "      <td>2640.0</td>\n",
       "    </tr>\n",
       "    <tr>\n",
       "      <th>83</th>\n",
       "      <td>1</td>\n",
       "      <td>5</td>\n",
       "      <td>2</td>\n",
       "      <td>IH</td>\n",
       "      <td>134.0</td>\n",
       "      <td>430.0</td>\n",
       "      <td>1880.0</td>\n",
       "      <td>2450.0</td>\n",
       "    </tr>\n",
       "    <tr>\n",
       "      <th>84</th>\n",
       "      <td>1</td>\n",
       "      <td>5</td>\n",
       "      <td>3</td>\n",
       "      <td>EH</td>\n",
       "      <td>140.0</td>\n",
       "      <td>580.0</td>\n",
       "      <td>1910.0</td>\n",
       "      <td>2500.0</td>\n",
       "    </tr>\n",
       "    <tr>\n",
       "      <th>...</th>\n",
       "      <td>...</td>\n",
       "      <td>...</td>\n",
       "      <td>...</td>\n",
       "      <td>...</td>\n",
       "      <td>...</td>\n",
       "      <td>...</td>\n",
       "      <td>...</td>\n",
       "      <td>...</td>\n",
       "    </tr>\n",
       "    <tr>\n",
       "      <th>1515</th>\n",
       "      <td>3</td>\n",
       "      <td>76</td>\n",
       "      <td>8</td>\n",
       "      <td>UH</td>\n",
       "      <td>322.0</td>\n",
       "      <td>610.0</td>\n",
       "      <td>1550.0</td>\n",
       "      <td>3400.0</td>\n",
       "    </tr>\n",
       "    <tr>\n",
       "      <th>1516</th>\n",
       "      <td>3</td>\n",
       "      <td>76</td>\n",
       "      <td>9</td>\n",
       "      <td>UW</td>\n",
       "      <td>345.0</td>\n",
       "      <td>520.0</td>\n",
       "      <td>1250.0</td>\n",
       "      <td>3460.0</td>\n",
       "    </tr>\n",
       "    <tr>\n",
       "      <th>1517</th>\n",
       "      <td>3</td>\n",
       "      <td>76</td>\n",
       "      <td>9</td>\n",
       "      <td>UW</td>\n",
       "      <td>334.0</td>\n",
       "      <td>500.0</td>\n",
       "      <td>1140.0</td>\n",
       "      <td>3380.0</td>\n",
       "    </tr>\n",
       "    <tr>\n",
       "      <th>1518</th>\n",
       "      <td>3</td>\n",
       "      <td>76</td>\n",
       "      <td>10</td>\n",
       "      <td>ER</td>\n",
       "      <td>308.0</td>\n",
       "      <td>740.0</td>\n",
       "      <td>1850.0</td>\n",
       "      <td>2160.0</td>\n",
       "    </tr>\n",
       "    <tr>\n",
       "      <th>1519</th>\n",
       "      <td>3</td>\n",
       "      <td>76</td>\n",
       "      <td>10</td>\n",
       "      <td>ER</td>\n",
       "      <td>328.0</td>\n",
       "      <td>660.0</td>\n",
       "      <td>1830.0</td>\n",
       "      <td>2200.0</td>\n",
       "    </tr>\n",
       "  </tbody>\n",
       "</table>\n",
       "<p>1041 rows × 8 columns</p>\n",
       "</div>"
      ],
      "text/plain": [
       "      M/F/C  SPKR  Phoneme-Number Phoneme-Ascii     F0     F1      F2      F3\n",
       "80        1     5               1            IY  140.0  310.0  2310.0  2820.0\n",
       "81        1     5               1            IY  131.0  260.0  2250.0  2850.0\n",
       "82        1     5               2            IH  137.0  440.0  2060.0  2640.0\n",
       "83        1     5               2            IH  134.0  430.0  1880.0  2450.0\n",
       "84        1     5               3            EH  140.0  580.0  1910.0  2500.0\n",
       "...     ...   ...             ...           ...    ...    ...     ...     ...\n",
       "1515      3    76               8            UH  322.0  610.0  1550.0  3400.0\n",
       "1516      3    76               9            UW  345.0  520.0  1250.0  3460.0\n",
       "1517      3    76               9            UW  334.0  500.0  1140.0  3380.0\n",
       "1518      3    76              10            ER  308.0  740.0  1850.0  2160.0\n",
       "1519      3    76              10            ER  328.0  660.0  1830.0  2200.0\n",
       "\n",
       "[1041 rows x 8 columns]"
      ]
     },
     "execution_count": 6,
     "metadata": {},
     "output_type": "execute_result"
    }
   ],
   "source": [
    "train_set_nostar = train_set_star[~train_set_star[\"Phoneme-Ascii\"].str.startswith(\"*\")]\n",
    "train_set_nostar"
   ]
  },
  {
   "cell_type": "markdown",
   "metadata": {},
   "source": [
    "# Decision tree"
   ]
  },
  {
   "cell_type": "code",
   "execution_count": 7,
   "metadata": {},
   "outputs": [],
   "source": [
    "from sklearn import tree\n",
    "from sklearn.tree import DecisionTreeClassifier\n",
    "from sklearn import metrics"
   ]
  },
  {
   "cell_type": "code",
   "execution_count": 8,
   "metadata": {},
   "outputs": [],
   "source": [
    "feature_cols = ['F0', 'F1', 'F2', 'F2']"
   ]
  },
  {
   "cell_type": "code",
   "execution_count": 9,
   "metadata": {},
   "outputs": [],
   "source": [
    "X_train_star = train_set_star[feature_cols]\n",
    "Y_train_star = train_set_star['Phoneme-Number']\n",
    "X_train_nostar = train_set_nostar[feature_cols]\n",
    "Y_train_nostar = train_set_nostar['Phoneme-Number']"
   ]
  },
  {
   "cell_type": "code",
   "execution_count": 10,
   "metadata": {},
   "outputs": [],
   "source": [
    "X_test_star = test_set_star[feature_cols]\n",
    "Y_test_star = test_set_star['Phoneme-Number']\n",
    "X_test_nostar = test_set_nostar[feature_cols]\n",
    "Y_test_nostar = test_set_nostar['Phoneme-Number']"
   ]
  },
  {
   "cell_type": "code",
   "execution_count": 11,
   "metadata": {},
   "outputs": [],
   "source": [
    "clf = DecisionTreeClassifier()"
   ]
  },
  {
   "cell_type": "code",
   "execution_count": 12,
   "metadata": {},
   "outputs": [
    {
     "name": "stdout",
     "output_type": "stream",
     "text": [
      "Starred/starred Accuracy: 0.725\n"
     ]
    }
   ],
   "source": [
    "clf = clf.fit(X_train_star,Y_train_star)\n",
    "y_pred = clf.predict(X_test_star)\n",
    "print(\"Starred/starred Accuracy:\",metrics.accuracy_score(Y_test_star, y_pred))"
   ]
  },
  {
   "cell_type": "code",
   "execution_count": 13,
   "metadata": {},
   "outputs": [
    {
     "name": "stdout",
     "output_type": "stream",
     "text": [
      "Unstarred/unstarred Accuracy: 0.8291139240506329\n"
     ]
    }
   ],
   "source": [
    "clf = clf.fit(X_train_nostar,Y_train_nostar)\n",
    "y_pred = clf.predict(X_test_nostar)\n",
    "print(\"Unstarred/unstarred Accuracy:\",metrics.accuracy_score(Y_test_nostar, y_pred))"
   ]
  },
  {
   "cell_type": "code",
   "execution_count": 14,
   "metadata": {},
   "outputs": [
    {
     "name": "stdout",
     "output_type": "stream",
     "text": [
      "Starred/nostarred Accuracy: 0.7531645569620253\n"
     ]
    }
   ],
   "source": [
    "clf = clf.fit(X_train_star,Y_train_star)\n",
    "y_pred = clf.predict(X_test_nostar)\n",
    "print(\"Starred/nostarred Accuracy:\",metrics.accuracy_score(Y_test_nostar, y_pred))"
   ]
  },
  {
   "cell_type": "code",
   "execution_count": 15,
   "metadata": {},
   "outputs": [
    {
     "name": "stdout",
     "output_type": "stream",
     "text": [
      "Nostarred/starred Accuracy: 0.77\n"
     ]
    }
   ],
   "source": [
    "clf = clf.fit(X_train_nostar,Y_train_nostar)\n",
    "y_pred = clf.predict(X_test_star)\n",
    "print(\"Nostarred/starred Accuracy:\",metrics.accuracy_score(Y_test_star, y_pred))"
   ]
  },
  {
   "cell_type": "markdown",
   "metadata": {},
   "source": [
    "# GradientBoosting"
   ]
  },
  {
   "cell_type": "code",
   "execution_count": 16,
   "metadata": {},
   "outputs": [],
   "source": [
    "from sklearn.ensemble import GradientBoostingClassifier"
   ]
  },
  {
   "cell_type": "code",
   "execution_count": 17,
   "metadata": {},
   "outputs": [],
   "source": [
    "clf1 = GradientBoostingClassifier(random_state=0)"
   ]
  },
  {
   "cell_type": "code",
   "execution_count": 18,
   "metadata": {},
   "outputs": [
    {
     "name": "stdout",
     "output_type": "stream",
     "text": [
      "Starred/starred Accuracy: 0.82\n"
     ]
    }
   ],
   "source": [
    "clf1 = clf1.fit(X_train_star,Y_train_star)\n",
    "y_pred = clf1.predict(X_test_star)\n",
    "print(\"Starred/starred Accuracy:\",metrics.accuracy_score(Y_test_star, y_pred))"
   ]
  },
  {
   "cell_type": "code",
   "execution_count": 19,
   "metadata": {},
   "outputs": [
    {
     "name": "stdout",
     "output_type": "stream",
     "text": [
      "Unstarred/unstarred Accuracy: 0.879746835443038\n"
     ]
    }
   ],
   "source": [
    "clf1 = clf1.fit(X_train_nostar,Y_train_nostar)\n",
    "y_pred = clf1.predict(X_test_nostar)\n",
    "print(\"Unstarred/unstarred Accuracy:\",metrics.accuracy_score(Y_test_nostar, y_pred))"
   ]
  },
  {
   "cell_type": "code",
   "execution_count": 20,
   "metadata": {},
   "outputs": [
    {
     "name": "stdout",
     "output_type": "stream",
     "text": [
      "Starred/nostarred Accuracy: 0.8607594936708861\n"
     ]
    }
   ],
   "source": [
    "clf1 = clf1.fit(X_train_star,Y_train_star)\n",
    "y_pred = clf1.predict(X_test_nostar)\n",
    "print(\"Starred/nostarred Accuracy:\",metrics.accuracy_score(Y_test_nostar, y_pred))"
   ]
  },
  {
   "cell_type": "code",
   "execution_count": 21,
   "metadata": {},
   "outputs": [
    {
     "name": "stdout",
     "output_type": "stream",
     "text": [
      "Nostarred/starred Accuracy: 0.82\n"
     ]
    }
   ],
   "source": [
    "clf1 = clf1.fit(X_train_nostar,Y_train_nostar)\n",
    "y_pred = clf1.predict(X_test_star)\n",
    "print(\"Nostarred/starred Accuracy:\",metrics.accuracy_score(Y_test_star, y_pred))"
   ]
  },
  {
   "cell_type": "markdown",
   "metadata": {},
   "source": [
    "# RandomForest"
   ]
  },
  {
   "cell_type": "code",
   "execution_count": 22,
   "metadata": {},
   "outputs": [],
   "source": [
    "from sklearn.ensemble import RandomForestClassifier\n",
    "from sklearn.datasets import make_classification"
   ]
  },
  {
   "cell_type": "code",
   "execution_count": 23,
   "metadata": {},
   "outputs": [],
   "source": [
    "clf2 = RandomForestClassifier(max_depth=20,random_state=0)"
   ]
  },
  {
   "cell_type": "code",
   "execution_count": 24,
   "metadata": {},
   "outputs": [
    {
     "name": "stdout",
     "output_type": "stream",
     "text": [
      "Starred/starred Accuracy: 0.845\n"
     ]
    }
   ],
   "source": [
    "clf2 = clf2.fit(X_train_star,Y_train_star)\n",
    "y_pred = clf2.predict(X_test_star)\n",
    "print(\"Starred/starred Accuracy:\",metrics.accuracy_score(Y_test_star, y_pred))"
   ]
  },
  {
   "cell_type": "code",
   "execution_count": 25,
   "metadata": {},
   "outputs": [
    {
     "name": "stdout",
     "output_type": "stream",
     "text": [
      "Unstarred/unstarred Accuracy: 0.9113924050632911\n"
     ]
    }
   ],
   "source": [
    "clf2 = clf2.fit(X_train_nostar,Y_train_nostar)\n",
    "y_pred = clf2.predict(X_test_nostar)\n",
    "print(\"Unstarred/unstarred Accuracy:\",metrics.accuracy_score(Y_test_nostar, y_pred))"
   ]
  },
  {
   "cell_type": "code",
   "execution_count": 26,
   "metadata": {},
   "outputs": [
    {
     "name": "stdout",
     "output_type": "stream",
     "text": [
      "Starred/nostarred Accuracy: 0.8924050632911392\n"
     ]
    }
   ],
   "source": [
    "clf2 = clf2.fit(X_train_star,Y_train_star)\n",
    "y_pred = clf2.predict(X_test_nostar)\n",
    "print(\"Starred/nostarred Accuracy:\",metrics.accuracy_score(Y_test_nostar, y_pred))"
   ]
  },
  {
   "cell_type": "code",
   "execution_count": 27,
   "metadata": {},
   "outputs": [
    {
     "name": "stdout",
     "output_type": "stream",
     "text": [
      "Nostarred/starred Accuracy: 0.855\n"
     ]
    }
   ],
   "source": [
    "clf2 = clf2.fit(X_train_nostar,Y_train_nostar)\n",
    "y_pred = clf2.predict(X_test_star)\n",
    "print(\"Nostarred/starred Accuracy:\",metrics.accuracy_score(Y_test_star, y_pred))"
   ]
  },
  {
   "cell_type": "markdown",
   "metadata": {},
   "source": [
    "# Prototype classifier - Nearest centroid classifier"
   ]
  },
  {
   "cell_type": "markdown",
   "metadata": {},
   "source": [
    "https://en.wikipedia.org/wiki/Nearest_centroid_classifier"
   ]
  },
  {
   "cell_type": "code",
   "execution_count": 28,
   "metadata": {},
   "outputs": [],
   "source": [
    "from sklearn.neighbors import NearestCentroid"
   ]
  },
  {
   "cell_type": "code",
   "execution_count": 29,
   "metadata": {},
   "outputs": [],
   "source": [
    "clf3 = NearestCentroid()"
   ]
  },
  {
   "cell_type": "code",
   "execution_count": 30,
   "metadata": {},
   "outputs": [
    {
     "name": "stdout",
     "output_type": "stream",
     "text": [
      "Starred/starred Accuracy: 0.505\n"
     ]
    }
   ],
   "source": [
    "clf3 = clf3.fit(X_train_star,Y_train_star)\n",
    "y_pred = clf3.predict(X_test_star)\n",
    "print(\"Starred/starred Accuracy:\",metrics.accuracy_score(Y_test_star, y_pred))"
   ]
  },
  {
   "cell_type": "code",
   "execution_count": 31,
   "metadata": {},
   "outputs": [
    {
     "name": "stdout",
     "output_type": "stream",
     "text": [
      "Unstarred/unstarred Accuracy: 0.5\n"
     ]
    }
   ],
   "source": [
    "clf3 = clf3.fit(X_train_nostar,Y_train_nostar)\n",
    "y_pred = clf3.predict(X_test_nostar)\n",
    "print(\"Unstarred/unstarred Accuracy:\",metrics.accuracy_score(Y_test_nostar, y_pred))"
   ]
  },
  {
   "cell_type": "code",
   "execution_count": 32,
   "metadata": {},
   "outputs": [
    {
     "name": "stdout",
     "output_type": "stream",
     "text": [
      "Starred/nostarred Accuracy: 0.5189873417721519\n"
     ]
    }
   ],
   "source": [
    "clf3 = clf3.fit(X_train_star,Y_train_star)\n",
    "y_pred = clf3.predict(X_test_nostar)\n",
    "print(\"Starred/nostarred Accuracy:\",metrics.accuracy_score(Y_test_nostar, y_pred))"
   ]
  },
  {
   "cell_type": "code",
   "execution_count": 33,
   "metadata": {},
   "outputs": [
    {
     "name": "stdout",
     "output_type": "stream",
     "text": [
      "Nostarred/starred Accuracy: 0.495\n"
     ]
    }
   ],
   "source": [
    "clf3 = clf3.fit(X_train_nostar,Y_train_nostar)\n",
    "y_pred = clf3.predict(X_test_star)\n",
    "print(\"Nostarred/starred Accuracy:\",metrics.accuracy_score(Y_test_star, y_pred))"
   ]
  },
  {
   "cell_type": "markdown",
   "metadata": {},
   "source": [
    "# Classifier comparison"
   ]
  },
  {
   "cell_type": "code",
   "execution_count": 34,
   "metadata": {},
   "outputs": [],
   "source": [
    "from sklearn.preprocessing import StandardScaler\n",
    "from sklearn.neural_network import MLPClassifier\n",
    "from sklearn.neighbors import KNeighborsClassifier\n",
    "from sklearn.svm import SVC\n",
    "from sklearn.gaussian_process import GaussianProcessClassifier\n",
    "from sklearn.gaussian_process.kernels import RBF\n",
    "from sklearn.tree import DecisionTreeClassifier\n",
    "from sklearn.ensemble import RandomForestClassifier, AdaBoostClassifier\n",
    "from sklearn.naive_bayes import GaussianNB\n",
    "from sklearn.discriminant_analysis import QuadraticDiscriminantAnalysis\n",
    "from sklearn.ensemble import BaggingClassifier"
   ]
  },
  {
   "cell_type": "code",
   "execution_count": 41,
   "metadata": {},
   "outputs": [],
   "source": [
    "names = [\"Nearest Neighbors\", \"GradBoost\", \"Bagging\", \"Linear SVM\", \"RBF SVM\", \"Decision Tree\", \"Random Forest deep:5\", \n",
    "         \"Random Forest deep:30\", \"Neural Net\", \"AdaBoost\", \"Naive Bayes\", \"QDA\", \"NearestCentroid\"]\n",
    "\n",
    "classifiers = [\n",
    "    KNeighborsClassifier(10),\n",
    "    GradientBoostingClassifier(random_state=0),\n",
    "    BaggingClassifier(base_estimator=SVC(), n_estimators=10, random_state=0),\n",
    "    SVC(kernel=\"linear\", C=0.025),\n",
    "    SVC(gamma=2, C=1),\n",
    "    DecisionTreeClassifier(max_depth=15),\n",
    "    RandomForestClassifier(max_depth=5, random_state = 0),\n",
    "    RandomForestClassifier(max_depth=30, random_state = 0),\n",
    "    MLPClassifier(alpha=1, max_iter=1000),\n",
    "    AdaBoostClassifier(),\n",
    "    GaussianNB(),\n",
    "    QuadraticDiscriminantAnalysis(),\n",
    "    NearestCentroid()]"
   ]
  },
  {
   "cell_type": "code",
   "execution_count": 42,
   "metadata": {
    "scrolled": false
   },
   "outputs": [
    {
     "name": "stdout",
     "output_type": "stream",
     "text": [
      "Classifier: Nearest Neighbors\n",
      "\t Starred train/starred test Accuracy: 0.855\n",
      "\t Unstarred train/unstarred test Accuracy: 0.879746835443038\n",
      "\t Starred train/nostarred test Accuracy: 0.9050632911392406\n",
      "\t Nostarred train/starred test Accuracy: 0.835 \n",
      "\n",
      "Classifier: GradBoost\n",
      "\t Starred train/starred test Accuracy: 0.82\n",
      "\t Unstarred train/unstarred test Accuracy: 0.879746835443038\n",
      "\t Starred train/nostarred test Accuracy: 0.8607594936708861\n",
      "\t Nostarred train/starred test Accuracy: 0.82 \n",
      "\n",
      "Classifier: Bagging\n",
      "\t Starred train/starred test Accuracy: 0.8\n",
      "\t Unstarred train/unstarred test Accuracy: 0.8354430379746836\n",
      "\t Starred train/nostarred test Accuracy: 0.8670886075949367\n",
      "\t Nostarred train/starred test Accuracy: 0.78 \n",
      "\n",
      "Classifier: Linear SVM\n",
      "\t Starred train/starred test Accuracy: 0.85\n",
      "\t Unstarred train/unstarred test Accuracy: 0.8860759493670886\n",
      "\t Starred train/nostarred test Accuracy: 0.879746835443038\n",
      "\t Nostarred train/starred test Accuracy: 0.86 \n",
      "\n",
      "Classifier: RBF SVM\n",
      "\t Starred train/starred test Accuracy: 0.12\n",
      "\t Unstarred train/unstarred test Accuracy: 0.12658227848101267\n",
      "\t Starred train/nostarred test Accuracy: 0.10126582278481013\n",
      "\t Nostarred train/starred test Accuracy: 0.11 \n",
      "\n",
      "Classifier: Decision Tree\n",
      "\t Starred train/starred test Accuracy: 0.72\n",
      "\t Unstarred train/unstarred test Accuracy: 0.8291139240506329\n",
      "\t Starred train/nostarred test Accuracy: 0.759493670886076\n",
      "\t Nostarred train/starred test Accuracy: 0.8 \n",
      "\n",
      "Classifier: Random Forest deep:5\n",
      "\t Starred train/starred test Accuracy: 0.795\n",
      "\t Unstarred train/unstarred test Accuracy: 0.8734177215189873\n",
      "\t Starred train/nostarred test Accuracy: 0.8481012658227848\n",
      "\t Nostarred train/starred test Accuracy: 0.815 \n",
      "\n",
      "Classifier: Random Forest deep:30\n",
      "\t Starred train/starred test Accuracy: 0.845\n",
      "\t Unstarred train/unstarred test Accuracy: 0.9113924050632911\n",
      "\t Starred train/nostarred test Accuracy: 0.8924050632911392\n",
      "\t Nostarred train/starred test Accuracy: 0.855 \n",
      "\n",
      "Classifier: Neural Net\n",
      "\t Starred train/starred test Accuracy: 0.61\n",
      "\t Unstarred train/unstarred test Accuracy: 0.5379746835443038\n",
      "\t Starred train/nostarred test Accuracy: 0.5759493670886076\n",
      "\t Nostarred train/starred test Accuracy: 0.68 \n",
      "\n",
      "Classifier: AdaBoost\n",
      "\t Starred train/starred test Accuracy: 0.245\n",
      "\t Unstarred train/unstarred test Accuracy: 0.34810126582278483\n",
      "\t Starred train/nostarred test Accuracy: 0.2721518987341772\n",
      "\t Nostarred train/starred test Accuracy: 0.35 \n",
      "\n",
      "Classifier: Naive Bayes\n",
      "\t Starred train/starred test Accuracy: 0.685\n",
      "\t Unstarred train/unstarred test Accuracy: 0.7341772151898734\n",
      "\t Starred train/nostarred test Accuracy: 0.7341772151898734\n",
      "\t Nostarred train/starred test Accuracy: 0.685 \n",
      "\n",
      "Classifier: QDA\n",
      "\t Starred train/starred test Accuracy: 0.64\n",
      "\t Unstarred train/unstarred test Accuracy: 0.6708860759493671\n",
      "\t Starred train/nostarred test Accuracy: 0.6772151898734177\n",
      "\t Nostarred train/starred test Accuracy: 0.625 \n",
      "\n",
      "Classifier: NearestCentroid\n",
      "\t Starred train/starred test Accuracy: 0.505\n",
      "\t Unstarred train/unstarred test Accuracy: 0.5\n",
      "\t Starred train/nostarred test Accuracy: 0.5189873417721519\n",
      "\t Nostarred train/starred test Accuracy: 0.495 \n",
      "\n"
     ]
    },
    {
     "name": "stderr",
     "output_type": "stream",
     "text": [
      "C:\\ProgramData\\Anaconda3\\lib\\site-packages\\sklearn\\discriminant_analysis.py:691: UserWarning: Variables are collinear\n",
      "  warnings.warn(\"Variables are collinear\")\n",
      "C:\\ProgramData\\Anaconda3\\lib\\site-packages\\sklearn\\discriminant_analysis.py:691: UserWarning: Variables are collinear\n",
      "  warnings.warn(\"Variables are collinear\")\n",
      "C:\\ProgramData\\Anaconda3\\lib\\site-packages\\sklearn\\discriminant_analysis.py:691: UserWarning: Variables are collinear\n",
      "  warnings.warn(\"Variables are collinear\")\n",
      "C:\\ProgramData\\Anaconda3\\lib\\site-packages\\sklearn\\discriminant_analysis.py:691: UserWarning: Variables are collinear\n",
      "  warnings.warn(\"Variables are collinear\")\n"
     ]
    }
   ],
   "source": [
    "for i in range(len(classifiers)):\n",
    "    print(\"Classifier:\",names[i])\n",
    "    clf = classifiers[i]\n",
    "    clf = clf.fit(X_train_star,Y_train_star)\n",
    "    y_pred = clf.predict(X_test_star)\n",
    "    print(\"\\t Starred train/starred test Accuracy:\", metrics.accuracy_score(Y_test_star, y_pred))\n",
    "    clf = clf.fit(X_train_nostar,Y_train_nostar)\n",
    "    y_pred = clf.predict(X_test_nostar)\n",
    "    print(\"\\t Unstarred train/unstarred test Accuracy:\",metrics.accuracy_score(Y_test_nostar, y_pred))\n",
    "    clf = clf.fit(X_train_star,Y_train_star)\n",
    "    y_pred = clf.predict(X_test_nostar)\n",
    "    print(\"\\t Starred train/nostarred test Accuracy:\",metrics.accuracy_score(Y_test_nostar, y_pred))\n",
    "    clf = clf.fit(X_train_nostar,Y_train_nostar)\n",
    "    y_pred = clf.predict(X_test_star)\n",
    "    print(\"\\t Nostarred train/starred test Accuracy:\",metrics.accuracy_score(Y_test_star, y_pred), \"\\n\")"
   ]
  },
  {
   "cell_type": "code",
   "execution_count": null,
   "metadata": {},
   "outputs": [],
   "source": []
  }
 ],
 "metadata": {
  "kernelspec": {
   "display_name": "Python 3",
   "language": "python",
   "name": "python3"
  },
  "language_info": {
   "codemirror_mode": {
    "name": "ipython",
    "version": 3
   },
   "file_extension": ".py",
   "mimetype": "text/x-python",
   "name": "python",
   "nbconvert_exporter": "python",
   "pygments_lexer": "ipython3",
   "version": "3.7.6"
  }
 },
 "nbformat": 4,
 "nbformat_minor": 4
}
